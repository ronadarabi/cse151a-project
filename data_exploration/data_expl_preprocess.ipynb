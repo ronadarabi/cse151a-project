{
 "cells": [
  {
   "cell_type": "code",
   "execution_count": 5,
   "metadata": {},
   "outputs": [],
   "source": [
    "import cv2\n",
    "import numpy as np\n",
    "from pathlib import Path\n",
    "import multiprocessing as mp\n",
    "import gc\n",
    "from zipfile import ZipFile"
   ]
  },
  {
   "cell_type": "markdown",
   "metadata": {},
   "source": [
    "# Data Exploration Preprocessing\n",
    "\n",
    "## Important note:\n",
    "**Multithreading does not work in jupyter notebooks, so its disabled here. This file is meant as an overview of the data exploration preprocessing. It works, but since theres no concurrency it takes aproximately 6 times as long to run.**\n",
    "\n",
    "This notebook can be used to follow the preprocessing of the dataset into something managable for dat"
   ]
  },
  {
   "cell_type": "markdown",
   "metadata": {},
   "source": [
    "## Extract Dataset Archive"
   ]
  },
  {
   "cell_type": "code",
   "execution_count": null,
   "metadata": {},
   "outputs": [],
   "source": [
    "with ZipFile('archive.zip', 'r') as zip:\n",
    "    zip.extractall('archive/')"
   ]
  },
  {
   "cell_type": "markdown",
   "metadata": {},
   "source": [
    "## Read image, convert to RGB and Lab colorspaces, and calculate frequencies of pixel brightness for each channel in both colorspaces. Also, find the shape of the image."
   ]
  },
  {
   "cell_type": "code",
   "execution_count": 6,
   "metadata": {},
   "outputs": [],
   "source": [
    "def process_image(image_file):\n",
    "    im_BGR = cv2.imread(str(image_file))\n",
    "    if im_BGR is None:\n",
    "        print(\"Couldn't read image from\", image_file)\n",
    "        return None, None\n",
    "\n",
    "    im_RGB = cv2.cvtColor(im_BGR, cv2.COLOR_BGR2RGB)\n",
    "    im_Lab = cv2.cvtColor(im_BGR, cv2.COLOR_BGR2Lab)\n",
    "\n",
    "    im = np.append(im_RGB, im_Lab, axis=2)\n",
    "    height, width, num_channels = im.shape\n",
    "\n",
    "    sizes = np.array([height, width])\n",
    "\n",
    "    counts_per_channel = np.zeros((num_channels, 256), dtype=np.int64)\n",
    "    for channel in range(num_channels):\n",
    "        channel_values = im[:, :, channel]\n",
    "        counts = np.bincount(channel_values.flatten(), minlength=256)\n",
    "        counts_per_channel[channel, :] = counts\n",
    "\n",
    "    return counts_per_channel, sizes"
   ]
  },
  {
   "cell_type": "markdown",
   "metadata": {},
   "source": [
    "## Add pixel brightness frequencies to global running sum, and add image shape to size array"
   ]
  },
  {
   "cell_type": "code",
   "execution_count": 7,
   "metadata": {},
   "outputs": [],
   "source": [
    "def update_totals(result):\n",
    "    global counts_per_channel_tot, sizes, idx, failed_reads\n",
    "    counts_per_channel, size = result\n",
    "    idx += 1\n",
    "    if counts_per_channel is not None:\n",
    "        counts_per_channel_tot += counts_per_channel\n",
    "        sizes[idx, :] = size\n",
    "        if idx % 10000 == 0:\n",
    "            gc.collect()\n",
    "            print('Processed Image:', idx, flush=True)\n",
    "    else:\n",
    "        failed_reads += 1"
   ]
  },
  {
   "cell_type": "markdown",
   "metadata": {},
   "source": [
    "## Iterate through dataset and write arrays to csv"
   ]
  },
  {
   "cell_type": "code",
   "execution_count": null,
   "metadata": {},
   "outputs": [],
   "source": [
    "# find number of images\n",
    "input_dir = 'archive'\n",
    "input_path = Path(input_dir)\n",
    "num_images = sum(1 for _ in input_path.rglob('*') if _.is_file())\n",
    "\n",
    "# initialize arrays, variables\n",
    "counts_per_channel_tot = np.zeros((6, 256), dtype=np.int64)\n",
    "sizes = np.zeros((num_images, 2), dtype=int)\n",
    "idx = 0\n",
    "failed_reads = 0\n",
    "\n",
    "# loop through images\n",
    "for image_file in input_path.rglob('*'):\n",
    "    if image_file.is_file():\n",
    "        update_totals(process_image(image_file))\n",
    "\n",
    "# write arrays to disk\n",
    "np.savetxt('RGB_frequencies.csv', counts_per_channel_tot[0:3], delimiter=',')\n",
    "np.savetxt('Lab_frequencies.csv', counts_per_channel_tot[3:6], delimiter=',')\n",
    "np.savetxt('image_sizes.csv', sizes, delimiter=',')\n",
    "\n",
    "print('Sucessfully processed {} images, but failed to load {} images'.format(idx - failed_reads, failed_reads))"
   ]
  }
 ],
 "metadata": {
  "kernelspec": {
   "display_name": "Python 3",
   "language": "python",
   "name": "python3"
  },
  "language_info": {
   "codemirror_mode": {
    "name": "ipython",
    "version": 3
   },
   "file_extension": ".py",
   "mimetype": "text/x-python",
   "name": "python",
   "nbconvert_exporter": "python",
   "pygments_lexer": "ipython3",
   "version": "3.12.4"
  }
 },
 "nbformat": 4,
 "nbformat_minor": 2
}
