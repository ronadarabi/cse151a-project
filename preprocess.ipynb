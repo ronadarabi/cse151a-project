{
 "cells": [
  {
   "cell_type": "markdown",
   "metadata": {},
   "source": [
    "# Data download and preprocessing"
   ]
  },
  {
   "cell_type": "markdown",
   "metadata": {},
   "source": [
    "## Dependancies"
   ]
  },
  {
   "cell_type": "code",
   "execution_count": null,
   "metadata": {},
   "outputs": [],
   "source": [
    "# Uncomment the following line to install the kaggle API\n",
    "#!pip install -q kaggle"
   ]
  },
  {
   "cell_type": "markdown",
   "metadata": {},
   "source": [
    "## Imports"
   ]
  },
  {
   "cell_type": "code",
   "execution_count": null,
   "metadata": {},
   "outputs": [],
   "source": [
    "import cv2\n",
    "import os\n",
    "from pathlib import Path\n",
    "from tqdm.notebook import tqdm\n",
    "import numpy as np\n",
    "from zipfile import ZipFile"
   ]
  },
  {
   "cell_type": "markdown",
   "metadata": {},
   "source": [
    "## Download"
   ]
  },
  {
   "cell_type": "code",
   "execution_count": null,
   "metadata": {},
   "outputs": [],
   "source": [
    "# Uncomment the following line to download the dataset\n",
    "#!kaggle datasets download -d shmalex/instagram-images"
   ]
  },
  {
   "cell_type": "markdown",
   "metadata": {},
   "source": [
    "## Unzip"
   ]
  },
  {
   "cell_type": "code",
   "execution_count": null,
   "metadata": {},
   "outputs": [],
   "source": [
    "if not os.path.exists(\"img_data\"):\n",
    "    with ZipFile(\"instagram-images.zip\", \"r\") as zip:\n",
    "        zip.extractall(\"img_data/\")\n",
    "        print(\"Dataset extracted\")\n",
    "else:\n",
    "    print(\"Dataset already extracted\")"
   ]
  },
  {
   "cell_type": "markdown",
   "metadata": {},
   "source": [
    "## Resize images\n",
    "\n",
    "Resize all images in place to 512x512, if not possible (or the image is corrupted) delete them.\n",
    "\n",
    "Note: The multithreading implemented here is not true parallelism due to Python's Global Interpreter Lock (GIL).\n",
    "However, it allows threads to concurrently wait for disk I/O responses, which often takes the most time,\n",
    "potentially improving overall performance for this I/O-bound task."
   ]
  },
  {
   "cell_type": "code",
   "execution_count": null,
   "metadata": {},
   "outputs": [],
   "source": [
    "import cv2\n",
    "import os\n",
    "from pathlib import Path\n",
    "from tqdm.notebook import tqdm\n",
    "import numpy as np\n",
    "from concurrent.futures import ThreadPoolExecutor, as_completed\n",
    "\n",
    "def center_crop(image, crop_size=(512, 512)):\n",
    "    h, w, _ = image.shape\n",
    "    ch, cw = crop_size\n",
    "    start_x = w // 2 - cw // 2\n",
    "    start_y = h // 2 - ch // 2\n",
    "    return image[start_y:start_y+ch, start_x:start_x+cw]\n",
    "\n",
    "def process_image(image_file, crop_size=(512, 512)):\n",
    "    try:\n",
    "        image = cv2.imread(str(image_file))\n",
    "        if image is None:\n",
    "            raise ValueError(\"Image could not be read\")\n",
    "        \n",
    "        if not isinstance(image, np.ndarray):\n",
    "            raise ValueError(\"Image is not a valid numpy array\")\n",
    "        \n",
    "        h, w, _ = image.shape\n",
    "        if h == crop_size[0] and w == crop_size[1]:\n",
    "            return 'skipped'\n",
    "        elif h < crop_size[0] or w < crop_size[1]:\n",
    "            os.remove(image_file)\n",
    "            return 'deleted'\n",
    "        else:\n",
    "            cropped_image = center_crop(image, crop_size)\n",
    "            cv2.imwrite(str(image_file), cropped_image)\n",
    "            return 'resized'\n",
    "    \n",
    "    except Exception as e:\n",
    "        print(f\"Error processing {image_file}: {str(e)}\")\n",
    "        os.remove(image_file)\n",
    "        return 'corrupted'\n",
    "\n",
    "def process_images(input_folder, crop_size=(512, 512), max_workers=4):\n",
    "    input_path = Path(input_folder)\n",
    "    image_files = list(input_path.rglob('*'))\n",
    "    image_files = [f for f in image_files if f.is_file() and f.suffix.lower() in ['.jpg', '.jpeg']]\n",
    "    \n",
    "    results = {'deleted': 0, 'resized': 0, 'corrupted': 0, 'skipped': 0}\n",
    "    \n",
    "    with ThreadPoolExecutor(max_workers=max_workers) as executor:\n",
    "        future_to_file = {executor.submit(process_image, image_file, crop_size): image_file for image_file in image_files}\n",
    "        \n",
    "        with tqdm(total=len(image_files), desc=\"Processing Images\") as pbar:\n",
    "            for future in as_completed(future_to_file):\n",
    "                result = future.result()\n",
    "                results[result] += 1\n",
    "                pbar.update(1)\n",
    "    \n",
    "    return results\n",
    "\n",
    "input_folder = 'img_data'\n",
    "results = process_images(input_folder, max_workers=os.cpu_count())\n",
    "\n",
    "print(f\"Number of images deleted (too small): {results['deleted']}\")\n",
    "print(f\"Number of images resized: {results['resized']}\")\n",
    "print(f\"Number of corrupted images deleted: {results['corrupted']}\")\n",
    "print(f\"Number of images skipped (already correct size): {results['skipped']}\")"
   ]
  }
 ],
 "metadata": {
  "kernelspec": {
   "display_name": ".venv",
   "language": "python",
   "name": "python3"
  },
  "language_info": {
   "codemirror_mode": {
    "name": "ipython",
    "version": 3
   },
   "file_extension": ".py",
   "mimetype": "text/x-python",
   "name": "python",
   "nbconvert_exporter": "python",
   "pygments_lexer": "ipython3",
   "version": "3.11.0"
  }
 },
 "nbformat": 4,
 "nbformat_minor": 2
}
